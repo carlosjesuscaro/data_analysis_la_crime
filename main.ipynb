{
 "cells": [
  {
   "metadata": {},
   "cell_type": "markdown",
   "source": "# Los Angeles Crime",
   "id": "8a77807f92f26ee"
  },
  {
   "metadata": {
    "ExecuteTime": {
     "end_time": "2024-05-21T01:31:16.949387Z",
     "start_time": "2024-05-21T01:31:16.812360Z"
    }
   },
   "cell_type": "code",
   "source": [
    "# Import libraries and data\n",
    "import pandas as pd\n",
    "import matplotlib.pyplot as plt\n",
    "\n",
    "data = pd.read_csv('data/crimes.csv')\n",
    "print(data.describe)"
   ],
   "id": "7df9140457caed5e",
   "outputs": [
    {
     "name": "stdout",
     "output_type": "stream",
     "text": [
      "<bound method NDFrame.describe of             DR_NO   Date Rptd    DATE OCC  TIME OCC    AREA NAME  \\\n",
      "0       220314085  2022-07-22  2020-05-12      1110    Southwest   \n",
      "1       222013040  2022-08-06  2020-06-04      1620      Olympic   \n",
      "2       220614831  2022-08-18  2020-08-17      1200    Hollywood   \n",
      "3       231207725  2023-02-27  2020-01-27       635  77th Street   \n",
      "4       220213256  2022-07-14  2020-07-14       900      Rampart   \n",
      "...           ...         ...         ...       ...          ...   \n",
      "185710  231510379  2023-05-29  2023-05-25      1100  N Hollywood   \n",
      "185711  231604807  2023-01-27  2023-01-26      1800     Foothill   \n",
      "185712  231606525  2023-03-22  2023-03-22      1000     Foothill   \n",
      "185713  231210064  2023-04-12  2023-04-12      1630  77th Street   \n",
      "185714  230906458  2023-03-05  2023-03-05       900     Van Nuys   \n",
      "\n",
      "                                              Crm Cd Desc  Vict Age Vict Sex  \\\n",
      "0                                       THEFT OF IDENTITY        27        F   \n",
      "1                                       THEFT OF IDENTITY        60        M   \n",
      "2                                       THEFT OF IDENTITY        28        M   \n",
      "3                                       THEFT OF IDENTITY        37        M   \n",
      "4                                       THEFT OF IDENTITY        79        M   \n",
      "...                                                   ...       ...      ...   \n",
      "185710                                 BUNCO, GRAND THEFT        25        M   \n",
      "185711  VANDALISM - FELONY ($400 & OVER, ALL CHURCH VA...        23        M   \n",
      "185712     ASSAULT WITH DEADLY WEAPON, AGGRAVATED ASSAULT        25        F   \n",
      "185713     ASSAULT WITH DEADLY WEAPON, AGGRAVATED ASSAULT        29        M   \n",
      "185714           VANDALISM - MISDEAMEANOR ($399 OR UNDER)        53        F   \n",
      "\n",
      "       Vict Descent                                     Weapon Desc  \\\n",
      "0                 B                                             NaN   \n",
      "1                 H                                             NaN   \n",
      "2                 H                                             NaN   \n",
      "3                 H                                             NaN   \n",
      "4                 B                                             NaN   \n",
      "...             ...                                             ...   \n",
      "185710            W                                             NaN   \n",
      "185711            H                                             NaN   \n",
      "185712            H  STRONG-ARM (HANDS, FIST, FEET OR BODILY FORCE)   \n",
      "185713            B                     UNKNOWN WEAPON/OTHER WEAPON   \n",
      "185714            H                                             NaN   \n",
      "\n",
      "        Status Desc                                  LOCATION  \n",
      "0       Invest Cont   2500 S  SYCAMORE                     AV  \n",
      "1       Invest Cont   3300    SAN MARINO                   ST  \n",
      "2       Invest Cont                         1900    TRANSIENT  \n",
      "3       Invest Cont   6200    4TH                          AV  \n",
      "4       Invest Cont   1200 W  7TH                          ST  \n",
      "...             ...                                       ...  \n",
      "185710  Invest Cont   5300    DENNY                        AV  \n",
      "185711  Invest Cont  12500    BRANFORD                     ST  \n",
      "185712  Invest Cont  12800    FILMORE                      ST  \n",
      "185713  Invest Cont   6100 S  VERMONT                      AV  \n",
      "185714  Invest Cont  14500    HARTLAND                     ST  \n",
      "\n",
      "[185715 rows x 12 columns]>\n"
     ]
    }
   ],
   "execution_count": 4
  }
 ],
 "metadata": {
  "kernelspec": {
   "display_name": "Python 3",
   "language": "python",
   "name": "python3"
  },
  "language_info": {
   "codemirror_mode": {
    "name": "ipython",
    "version": 2
   },
   "file_extension": ".py",
   "mimetype": "text/x-python",
   "name": "python",
   "nbconvert_exporter": "python",
   "pygments_lexer": "ipython2",
   "version": "2.7.6"
  }
 },
 "nbformat": 4,
 "nbformat_minor": 5
}
