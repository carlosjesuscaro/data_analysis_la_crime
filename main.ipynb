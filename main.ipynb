{
 "cells": [
  {
   "metadata": {},
   "cell_type": "markdown",
   "source": "# Los Angeles Crime",
   "id": "8a77807f92f26ee"
  },
  {
   "metadata": {
    "ExecuteTime": {
     "end_time": "2024-05-21T02:59:25.121140Z",
     "start_time": "2024-05-21T02:59:24.922403Z"
    }
   },
   "cell_type": "code",
   "source": [
    "# Import libraries and data\n",
    "import pandas as pd\n",
    "import matplotlib.pyplot as plt\n",
    "\n",
    "data = pd.read_csv('data/crimes.csv')\n",
    "print(data.info())\n",
    "print(data.head(5))"
   ],
   "id": "7df9140457caed5e",
   "outputs": [
    {
     "name": "stdout",
     "output_type": "stream",
     "text": [
      "<class 'pandas.core.frame.DataFrame'>\n",
      "RangeIndex: 185715 entries, 0 to 185714\n",
      "Data columns (total 12 columns):\n",
      " #   Column        Non-Null Count   Dtype \n",
      "---  ------        --------------   ----- \n",
      " 0   DR_NO         185715 non-null  int64 \n",
      " 1   Date Rptd     185715 non-null  object\n",
      " 2   DATE OCC      185715 non-null  object\n",
      " 3   TIME OCC      185715 non-null  int64 \n",
      " 4   AREA NAME     185715 non-null  object\n",
      " 5   Crm Cd Desc   185715 non-null  object\n",
      " 6   Vict Age      185715 non-null  int64 \n",
      " 7   Vict Sex      185704 non-null  object\n",
      " 8   Vict Descent  185705 non-null  object\n",
      " 9   Weapon Desc   73502 non-null   object\n",
      " 10  Status Desc   185715 non-null  object\n",
      " 11  LOCATION      185715 non-null  object\n",
      "dtypes: int64(3), object(9)\n",
      "memory usage: 17.0+ MB\n",
      "None\n",
      "       DR_NO   Date Rptd    DATE OCC  TIME OCC    AREA NAME  \\\n",
      "0  220314085  2022-07-22  2020-05-12      1110    Southwest   \n",
      "1  222013040  2022-08-06  2020-06-04      1620      Olympic   \n",
      "2  220614831  2022-08-18  2020-08-17      1200    Hollywood   \n",
      "3  231207725  2023-02-27  2020-01-27       635  77th Street   \n",
      "4  220213256  2022-07-14  2020-07-14       900      Rampart   \n",
      "\n",
      "         Crm Cd Desc  Vict Age Vict Sex Vict Descent Weapon Desc  Status Desc  \\\n",
      "0  THEFT OF IDENTITY        27        F            B         NaN  Invest Cont   \n",
      "1  THEFT OF IDENTITY        60        M            H         NaN  Invest Cont   \n",
      "2  THEFT OF IDENTITY        28        M            H         NaN  Invest Cont   \n",
      "3  THEFT OF IDENTITY        37        M            H         NaN  Invest Cont   \n",
      "4  THEFT OF IDENTITY        79        M            B         NaN  Invest Cont   \n",
      "\n",
      "                                  LOCATION  \n",
      "0  2500 S  SYCAMORE                     AV  \n",
      "1  3300    SAN MARINO                   ST  \n",
      "2                        1900    TRANSIENT  \n",
      "3  6200    4TH                          AV  \n",
      "4  1200 W  7TH                          ST  \n"
     ]
    }
   ],
   "execution_count": 23
  },
  {
   "metadata": {
    "ExecuteTime": {
     "end_time": "2024-05-21T02:59:27.837075Z",
     "start_time": "2024-05-21T02:59:27.786036Z"
    }
   },
   "cell_type": "code",
   "source": [
    "# Data cleaning\n",
    "data['Date Rptd'] = pd.to_datetime(data['Date Rptd'])\n",
    "data['DATE OCC'] = pd.to_datetime(data['DATE OCC'])\n",
    "data.rename(columns={'DR_NO': 'Record number',\n",
    "                    'Date Rptd': 'Date Crime Reported', \n",
    "                    'DATE OCC': 'Date Crime Occurred', \n",
    "                    'Crm Cd Desc': 'Crime Committed',\n",
    "                    'TIME OCC': 'Time Occurred',\n",
    "                    'LOCATION': 'Location'}, inplace=True)\n",
    "print(data.info())"
   ],
   "id": "eca42b133ad3bb95",
   "outputs": [
    {
     "name": "stdout",
     "output_type": "stream",
     "text": [
      "<class 'pandas.core.frame.DataFrame'>\n",
      "RangeIndex: 185715 entries, 0 to 185714\n",
      "Data columns (total 12 columns):\n",
      " #   Column               Non-Null Count   Dtype         \n",
      "---  ------               --------------   -----         \n",
      " 0   Record number        185715 non-null  int64         \n",
      " 1   Date Crime Reported  185715 non-null  datetime64[ns]\n",
      " 2   Date Crime Occurred  185715 non-null  datetime64[ns]\n",
      " 3   Time Occurred        185715 non-null  int64         \n",
      " 4   AREA NAME            185715 non-null  object        \n",
      " 5   Crime Committed      185715 non-null  object        \n",
      " 6   Vict Age             185715 non-null  int64         \n",
      " 7   Vict Sex             185704 non-null  object        \n",
      " 8   Vict Descent         185705 non-null  object        \n",
      " 9   Weapon Desc          73502 non-null   object        \n",
      " 10  Status Desc          185715 non-null  object        \n",
      " 11  Location             185715 non-null  object        \n",
      "dtypes: datetime64[ns](2), int64(3), object(7)\n",
      "memory usage: 17.0+ MB\n",
      "None\n"
     ]
    }
   ],
   "execution_count": 24
  },
  {
   "metadata": {},
   "cell_type": "code",
   "outputs": [],
   "execution_count": null,
   "source": "",
   "id": "c16cf2cfc989353b"
  }
 ],
 "metadata": {
  "kernelspec": {
   "display_name": "Python 3",
   "language": "python",
   "name": "python3"
  },
  "language_info": {
   "codemirror_mode": {
    "name": "ipython",
    "version": 2
   },
   "file_extension": ".py",
   "mimetype": "text/x-python",
   "name": "python",
   "nbconvert_exporter": "python",
   "pygments_lexer": "ipython2",
   "version": "2.7.6"
  }
 },
 "nbformat": 4,
 "nbformat_minor": 5
}
